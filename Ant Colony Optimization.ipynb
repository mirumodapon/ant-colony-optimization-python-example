{
  "nbformat": 4,
  "nbformat_minor": 0,
  "metadata": {
    "colab": {
      "provenance": []
    },
    "kernelspec": {
      "name": "python3",
      "display_name": "Python 3"
    },
    "language_info": {
      "name": "python"
    }
  },
  "cells": [
    {
      "cell_type": "code",
      "execution_count": 19,
      "metadata": {
        "id": "QibYLt8C4teZ"
      },
      "outputs": [],
      "source": [
        "from random import randint, choices\n",
        "from math import log10\n",
        "from copy import deepcopy\n",
        "\n",
        "''' ===== Figure ===== '''\n",
        "import matplotlib.pyplot as plt\n",
        "import matplotlib.colors as mcolors"
      ]
    },
    {
      "cell_type": "code",
      "source": [
        "# Configure constance value\n",
        "CITY = 10\n",
        "ITERATION = 100\n",
        "ANT = 10\n",
        "\n",
        "ALPHA = 1 # 2\n",
        "BETA = 1 # 5\n",
        "Q = 50 # 100\n",
        "EVAPORATION_RATE = 0.5 # 0.3"
      ],
      "metadata": {
        "id": "bULiJ2sN5bPc"
      },
      "execution_count": 2,
      "outputs": []
    },
    {
      "cell_type": "code",
      "source": [
        "# Define utils methods\n",
        "calculate_distance = lambda a, b: ((a[0] - b[0]) ** 2 + (a[1] - b[1]) ** 2) ** 0.5\n",
        "\n",
        "def printArr(arr, label = '', padding=7.2):\n",
        "  size = len(arr)\n",
        "  label_len = len(label)\n",
        "  label_padding = max(label_len, int(log10(size))) + 3\n",
        "\n",
        "  max_value = max(max(i) for i in arr)\n",
        "  value_padding = max(int(padding), 5 + int(log10(max_value))) + .2\n",
        "\n",
        "  print(label + ' ' * (label_padding - label_len), end='|')\n",
        "  for i in range(size):\n",
        "    print(f'{i + 1: >{int(value_padding)}}', end='|')\n",
        "  for i in range(size):\n",
        "    print()\n",
        "    print(f'{i + 1: >{label_padding}}', end='|')\n",
        "    for j in arr[i]:\n",
        "      print(f'{j: >{value_padding}f}', end='|')\n",
        "  print()\n",
        "\n",
        "def calculate_probabilities(current, unvisited, distance, pheromone):\n",
        "  prob = []\n",
        "  for next in unvisited:\n",
        "    pher = pheromone[current][next] ** ALPHA\n",
        "    heuristic = 1 / distance[current][next] ** BETA\n",
        "    prob.append(pher * heuristic)\n",
        "\n",
        "  total = sum(prob)\n",
        "  prob = [p / total for p in prob]\n",
        "  return prob\n",
        "\n",
        "def update_pheromone(routes, pheromone):\n",
        "  pher = deepcopy(pheromone)\n",
        "\n",
        "  for i in range(len(pher)):\n",
        "    for j in range(len(pher[i])):\n",
        "      if (i != j):\n",
        "        pher[i][j] *= (1 - EVAPORATION_RATE)\n",
        "\n",
        "  for route, cost in routes:\n",
        "    contribution = Q / cost\n",
        "    for i in range(CITY):\n",
        "      pher[route[i]][route[i + 1]] += contribution\n",
        "      pher[route[i + 1]][route[i]] += contribution\n",
        "\n",
        "  return pher"
      ],
      "metadata": {
        "id": "PFPbfCXL7xQa"
      },
      "execution_count": 11,
      "outputs": []
    },
    {
      "cell_type": "code",
      "source": [
        "# Generate random coordinate\n",
        "cities = [(randint(0, 100), randint(0, 100)) for i in range(CITY)]\n",
        "\n",
        "''' ===== Figure ===== '''\n",
        "plt.figure(figsize=(8, 8))\n",
        "x_coords = [coord[0] for coord in cities]\n",
        "y_coords = [coord[1] for coord in cities]\n",
        "\n",
        "plt.scatter(x_coords, y_coords, c = 'red', zorder = 5)\n",
        "\n",
        "for i in range(CITY):\n",
        "  plt.text(x_coords[i] + 0.5, y_coords[i], f'{i + 1}', fontsize=12, color='blue')\n",
        "  # plt.text(x_coords[i] + 0.5, y_coords[i], f'{i + 1} ({x_coords[i]}, {y_coords[i]})', fontsize=12, color='blue')\n",
        "\n",
        "plt.show()"
      ],
      "metadata": {
        "collapsed": true,
        "id": "fu5_X91u5SMx"
      },
      "execution_count": null,
      "outputs": []
    },
    {
      "cell_type": "code",
      "source": [
        "# Calculate distance between cities\n",
        "distance = [[calculate_distance(cities[i], cities[j]) for j in range(CITY)] for i in range(CITY)]\n",
        "\n",
        "printArr(distance, 'D')"
      ],
      "metadata": {
        "id": "DHikiR4F7TSc"
      },
      "execution_count": null,
      "outputs": []
    },
    {
      "cell_type": "code",
      "source": [
        "# Initialize pheromone\n",
        "pheromone = [[1 if i != j else 0 for i in range(CITY)] for j in range(CITY)]\n",
        "\n",
        "printArr(pheromone, 'P')"
      ],
      "metadata": {
        "id": "QfBmhSBn_vGT"
      },
      "execution_count": null,
      "outputs": []
    },
    {
      "cell_type": "code",
      "source": [
        "all_best = (None, float('Inf'))\n",
        "\n",
        "# Start iteration\n",
        "for i in range(ITERATION):\n",
        "  print(f'Iteration {i + 1} Start')\n",
        "  all_routes = []\n",
        "  best_route = (None, float('Inf'))\n",
        "\n",
        "\n",
        "  for ant in range(ANT):\n",
        "    route = [randint(0, CITY - 1)]\n",
        "    unvisited = set(range(CITY)) - set(route)\n",
        "\n",
        "    while unvisited:\n",
        "      current = route[-1]\n",
        "      prob = calculate_probabilities(current, unvisited, distance, pheromone)\n",
        "      [next] = choices(list(unvisited), prob)\n",
        "      route.append(next)\n",
        "      unvisited.remove(next)\n",
        "\n",
        "    route.append(route[0])\n",
        "    cost = sum(distance[route[i]][route[i + 1]] for i in range(CITY))\n",
        "    all_routes.append((route, cost))\n",
        "\n",
        "    print('\\t', f'{ant: 3}) ',' -> '.join(str(c) for c in route), ', ', f'{cost: 3.2f}')\n",
        "\n",
        "    if cost < best_route[1]:\n",
        "      best_route = (route, cost)\n",
        "\n",
        "  if best_route[1] < all_best[1]:\n",
        "    all_best = best_route\n",
        "\n",
        "  pheromone = update_pheromone(all_routes, pheromone)\n",
        "  print(f'\\tBest Cost = {best_route[1]: 3.2f}')\n",
        "\n",
        "print(f'Solve: {\" -> \".join(str(c) for c in all_best[0])} {all_best[1]: 3.2f}')\n",
        "\n"
      ],
      "metadata": {
        "id": "VVUN_E1NAkbk"
      },
      "execution_count": null,
      "outputs": []
    },
    {
      "cell_type": "code",
      "source": [
        "\n",
        "''' ===== Figure route ===== '''\n",
        "plt.figure(figsize=(8, 8))\n",
        "x_coords = [coord[0] for coord in cities]\n",
        "y_coords = [coord[1] for coord in cities]\n",
        "plt.scatter(x_coords, y_coords, c = 'red', zorder = 5)\n",
        "\n",
        "\n",
        "for i in range(CITY):\n",
        "  plt.text(x_coords[i] + 0.5, y_coords[i], f'{i}', fontsize=12, color='blue')\n",
        "\n",
        "x_coords = []\n",
        "y_coords = []\n",
        "for i in all_best[0][: -1]:\n",
        "  x_coords.append(cities[i][0])\n",
        "  y_coords.append(cities[i][1])\n",
        "\n",
        "plt.plot(x_coords, y_coords, c='blue')\n",
        "plt.show()\n",
        "\n",
        "''' ===== Figure pheromone ===== '''\n",
        "plt.figure(figsize=(8, 8))\n",
        "x_coords = [coord[0] for coord in cities]\n",
        "y_coords = [coord[1] for coord in cities]\n",
        "plt.scatter(x_coords, y_coords, c = 'red', zorder = 5)\n",
        "\n",
        "\n",
        "for i in range(CITY):\n",
        "  plt.text(x_coords[i] + 0.5, y_coords[i], f'{i}', fontsize=12, color='blue')\n",
        "\n",
        "total_pheromone = max(max(i) for i in pheromone) / 2\n",
        "cmap = plt.get_cmap('Blues')\n",
        "norm = mcolors.Normalize(vmin=0, vmax=total_pheromone)\n",
        "for i in range(CITY):\n",
        "  for j in range(CITY):\n",
        "    if (i != j):\n",
        "      plt.plot([x_coords[i], x_coords[j]], [y_coords[i], y_coords[j]], color=cmap(norm(pheromone[i][j])))\n",
        "plt.show()\n"
      ],
      "metadata": {
        "id": "x8l7sYpbei5Q"
      },
      "execution_count": null,
      "outputs": []
    }
  ]
}